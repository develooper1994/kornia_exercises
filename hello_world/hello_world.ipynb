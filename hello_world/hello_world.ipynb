{
 "cells": [
  {
   "cell_type": "markdown",
   "metadata": {
    "collapsed": true,
    "pycharm": {
     "name": "#%% md\n"
    }
   },
   "source": [
    "Opencv, imgaug ve albumentations hepsi opencv veya numpy üzerinden işlem yapmaktadır.\n",
    "GPU için Numba kullanılabilir fakat numba tüm fonksiyonları tanımıyor.\n",
    "Ayrıca GPU üzerinde, Pytorch dışından farklı bir konuma yerleştirdiğinden\n",
    "GPU hafızası gereksiz işgal edilmektedir."
   ]
  },
  {
   "cell_type": "markdown",
   "source": [
    "Kornia kütüphanesi çok kullanılan görüntü işleme fonksiyonlarını\n",
    "Pytorch ile tekrar oluşturmuştur.\n",
    "Bu sayede Pytorch jit özelliğinden yararlanılabilmekte ve\n",
    "tüm pipeline GPU ile hesaplanabilmektedir."
   ],
   "metadata": {
    "collapsed": false
   }
  },
  {
   "cell_type": "markdown",
   "source": [
    "Augmentasyon işlemi Jit sırasında yapay sinir ağına eklenebildiğinden yazılımı verdiğiniz ortam için\n",
    "ayrıca augmentasyon fonksiyonlarını yazmanıza gerek kalmamaktadır."
   ],
   "metadata": {
    "collapsed": false
   }
  },
  {
   "cell_type": "markdown",
   "source": [
    "Kornia 08/09/2020 tarihi itibariyle 0.3.1 versiyondadır ve hâlâ geliştirme aşamasındadır."
   ],
   "metadata": {
    "collapsed": false
   }
  },
  {
   "cell_type": "code",
   "execution_count": null,
   "outputs": [],
   "source": [
    "import torch\n",
    "import kornia\n",
    "\n",
    "import cv2\n",
    "import numpy as np\n",
    "\n",
    "from matplotlib import pyplot as plt"
   ],
   "metadata": {
    "collapsed": false,
    "pycharm": {
     "name": "#%%\n"
    }
   }
  },
  {
   "cell_type": "code",
   "execution_count": null,
   "outputs": [],
   "source": [
    "img_bgr = \n"
   ],
   "metadata": {
    "collapsed": false,
    "pycharm": {
     "name": "#%% Open cv'nin Numpy gösterimi\n"
    }
   }
  }
 ],
 "metadata": {
  "kernelspec": {
   "display_name": "Python 3",
   "language": "python",
   "name": "python3"
  },
  "language_info": {
   "codemirror_mode": {
    "name": "ipython",
    "version": 2
   },
   "file_extension": ".py",
   "mimetype": "text/x-python",
   "name": "python",
   "nbconvert_exporter": "python",
   "pygments_lexer": "ipython2",
   "version": "2.7.6"
  }
 },
 "nbformat": 4,
 "nbformat_minor": 0
}
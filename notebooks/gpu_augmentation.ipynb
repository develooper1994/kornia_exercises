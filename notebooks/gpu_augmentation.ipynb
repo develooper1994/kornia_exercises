{
 "cells": [
  {
   "cell_type": "markdown",
   "source": [
    "## !! Önemli !!\n",
    "Kornia modülü;\n",
    "\"class\"ları büyük harfle başlatmıştır. Kendi sınıf modülü içinde kullanılabilir. Örneğin; kornia.color.AdjustBrightness(0.5)\n",
    "<br><br>\n",
    "\"fonksiyon\"ları küçük harfle başlatmıştır. Kornia üzerinden çağrılabilir. Örneğin; kornia.adjust_brightness(data, 0.5)"
   ],
   "metadata": {
    "collapsed": false,
    "pycharm": {
     "name": "#%% md\n"
    }
   }
  },
  {
   "cell_type": "markdown",
   "source": [
    "Sahte bir veri seti kur."
   ],
   "metadata": {
    "collapsed": false,
    "pycharm": {
     "name": "#%% md\n"
    }
   }
  },
  {
   "cell_type": "code",
   "execution_count": 1,
   "metadata": {
    "collapsed": true,
    "pycharm": {
     "name": "#%%\n"
    }
   },
   "outputs": [],
   "source": [
    "import torch\n",
    "import torch.nn as nn\n",
    "import torch.optim as optim\n",
    "from torch.utils.data import Dataset, DataLoader\n",
    "\n",
    "# from: https://gist.github.com/edgarriba/a781de516c508826f79568d08598efdb\n",
    "\n",
    "\n",
    "class DummyDataset(Dataset):\n",
    "    def __init__(self, data_root=None):\n",
    "        self.data_root = data_root\n",
    "        self.data_index = self.build_index(self.data_root)\n",
    "\n",
    "    def build_index(self, data_root):\n",
    "        return range(10)\n",
    "\n",
    "    def __len__(self):\n",
    "        return len(self.data_index)\n",
    "\n",
    "    def __getitem__(self, idx):\n",
    "        # get data sample\n",
    "        sample = self.data_index[idx]\n",
    "\n",
    "        # load data, NOTE: modify by cv2.imread(...)\n",
    "        image = torch.rand(3, 240, 320)\n",
    "        label = torch.rand(1, 240, 320)\n",
    "        return dict(images=image, labels=label)"
   ]
  },
  {
   "cell_type": "markdown",
   "source": [
    "Augmentasyon fonksiyonu yapay sinir ağ katmanları gibi tanımlanabilir."
   ],
   "metadata": {
    "collapsed": false
   }
  },
  {
   "cell_type": "code",
   "execution_count": 2,
   "outputs": [],
   "source": [
    "import kornia\n",
    "transform = nn.Sequential(\n",
    "    kornia.color.AdjustBrightness(0.5),\n",
    "    kornia.color.AdjustGamma(gamma=2.0),\n",
    "    kornia.color.AdjustContrast(0.7)\n",
    ")"
   ],
   "metadata": {
    "collapsed": false,
    "pycharm": {
     "name": "#%%\n"
    }
   }
  },
  {
   "cell_type": "markdown",
   "source": [
    "Veri setini çalıştır ve augmentation işlemini gerçekleştir.\n",
    "Bundan sonrası için özel birşey yapmaya gerek yok."
   ],
   "metadata": {
    "collapsed": false
   }
  },
  {
   "cell_type": "code",
   "source": [
    "device = torch.device(\"cuda\" if torch.cuda.is_available() else \"cpu\")\n",
    "print(f\"Running device on: {device}\")\n",
    "\n",
    "# dataloader oluştur.\n",
    "dataset = DummyDataset()\n",
    "dataloader = DataLoader(dataset, batch_size=4, shuffle=True)\n",
    "\n",
    "for i , batch in enumerate(dataloader):\n",
    "    images = batch['images'].to(device)\n",
    "    labels = batch['labels'].to(device)\n",
    "\n",
    "    # perform the transforms\n",
    "    images = transform(images)\n",
    "    labels = transform(labels)\n",
    "\n",
    "    print(f\"Iteration: {i} Image shape: {images.shape}\")"
   ],
   "metadata": {
    "collapsed": false,
    "pycharm": {
     "name": "#%%\n"
    }
   },
   "execution_count": 3,
   "outputs": [
    {
     "name": "stdout",
     "output_type": "stream",
     "text": [
      "Running device on: cuda\n",
      "Iteration: 0 Image shape: torch.Size([4, 3, 240, 320])\n",
      "Iteration: 1 Image shape: torch.Size([4, 3, 240, 320])\n",
      "Iteration: 2 Image shape: torch.Size([2, 3, 240, 320])\n"
     ]
    }
   ]
  }
 ],
 "metadata": {
  "kernelspec": {
   "display_name": "Python 3",
   "language": "python",
   "name": "python3"
  },
  "language_info": {
   "codemirror_mode": {
    "name": "ipython",
    "version": 2
   },
   "file_extension": ".py",
   "mimetype": "text/x-python",
   "name": "python",
   "nbconvert_exporter": "python",
   "pygments_lexer": "ipython2",
   "version": "2.7.6"
  }
 },
 "nbformat": 4,
 "nbformat_minor": 0
}
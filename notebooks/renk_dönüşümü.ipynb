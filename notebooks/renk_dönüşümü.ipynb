{
 "cells": [
  {
   "cell_type": "markdown",
   "source": [
    "## !! Önemli !!\n",
    "Kornia torch tensor tipini varsayılan olarak float kabul eder ;)"
   ],
   "metadata": {
    "collapsed": false,
    "pycharm": {
     "name": "#%% md\n"
    }
   }
  },
  {
   "cell_type": "code",
   "execution_count": null,
   "metadata": {
    "collapsed": true
   },
   "outputs": [],
   "source": [
    "from matplotlib import pyplot as plt\n",
    "import cv2\n",
    "import numpy as np\n",
    "\n",
    "import torch\n",
    "import kornia\n",
    "import torchvision\n",
    "\n",
    "def hflip(input):\n",
    "    return torch.flip(input, [-1])\n",
    "\n",
    "def vflip(input):\n",
    "    return torch.flip(input, [-2])\n",
    "\n",
    "def rot180(input):\n",
    "    return torch.flip(input, [-2, -1])\n",
    "\n",
    "def imshow(input):\n",
    "    out = torchvision.utils.make_grid(input, nrow=2, padding=5)\n",
    "    out_np = kornia.tensor_to_image(out)\n",
    "    plt.imshow(out_np)\n",
    "    plt.axis(\"off\")"
   ]
  },
  {
   "cell_type": "code",
   "execution_count": null,
   "outputs": [],
   "source": [
    "img_bgr = cv2.imread(\"../KendiResmim.jpg\", cv2.IMREAD_COLOR)\n",
    "print(img_bgr.shape)"
   ],
   "metadata": {
    "collapsed": false,
    "pycharm": {
     "name": "#%%\n"
    }
   }
  },
  {
   "cell_type": "code",
   "execution_count": null,
   "outputs": [],
   "source": [
    "x_bgr = kornia.image_to_tensor(img_bgr, keepdim=False)\n",
    "print(x_bgr.shape)"
   ],
   "metadata": {
    "collapsed": false,
    "pycharm": {
     "name": "#%%\n"
    }
   }
  },
  {
   "cell_type": "code",
   "execution_count": null,
   "outputs": [],
   "source": [
    "x_bgr = kornia.image_to_tensor(img_bgr)\n",
    "x_rgb = kornia.bgr_to_rgb(x_bgr)\n",
    "print(x_rgb.shape)"
   ],
   "metadata": {
    "collapsed": false,
    "pycharm": {
     "name": "#%%\n"
    }
   }
  },
  {
   "cell_type": "markdown",
   "source": [
    "Create batch and normalize"
   ],
   "metadata": {
    "collapsed": false
   }
  },
  {
   "cell_type": "code",
   "execution_count": null,
   "outputs": [],
   "source": [
    "x_rgb = x_rgb.expand(4, -1, -1, -1)\n",
    "x_rgb = x_rgb.float() / 255.0\n",
    "print(x_rgb.shape)\n",
    "\n",
    "imshow(x_rgb)"
   ],
   "metadata": {
    "collapsed": false,
    "pycharm": {
     "name": "#%%\n"
    }
   }
  },
  {
   "cell_type": "markdown",
   "source": [
    "Create a batch of images"
   ],
   "metadata": {
    "collapsed": false,
    "pycharm": {
     "name": "#%% md\n"
    }
   }
  },
  {
   "cell_type": "code",
   "execution_count": null,
   "outputs": [],
   "source": [
    "xb_bgr = torch.cat([x_bgr, hflip(x_bgr), vflip(x_bgr), rot180(x_bgr)])\n",
    "imshow(xb_bgr)"
   ],
   "metadata": {
    "collapsed": false,
    "pycharm": {
     "name": "#%%\n"
    }
   }
  },
  {
   "cell_type": "markdown",
   "source": [
    "BGR -> RGB"
   ],
   "metadata": {
    "collapsed": false
   }
  },
  {
   "cell_type": "code",
   "execution_count": null,
   "outputs": [],
   "source": [
    "xb_rgb = kornia.bgr_to_rgb(xb_bgr)\n",
    "imshow(xb_rgb)"
   ],
   "metadata": {
    "collapsed": false,
    "pycharm": {
     "name": "#%%\n"
    }
   }
  },
  {
   "cell_type": "markdown",
   "source": [
    "BGR -> gray"
   ],
   "metadata": {
    "collapsed": false
   }
  },
  {
   "cell_type": "code",
   "execution_count": null,
   "outputs": [],
   "source": [
    "xb_gray = kornia.rgb_to_grayscale(xb_rgb.float() / 255.)\n",
    "imshow(xb_gray)"
   ],
   "metadata": {
    "collapsed": false,
    "pycharm": {
     "name": "#%%\n"
    }
   }
  },
  {
   "cell_type": "markdown",
   "source": [
    "BGR -> HSV"
   ],
   "metadata": {
    "collapsed": false
   }
  },
  {
   "cell_type": "code",
   "execution_count": null,
   "outputs": [],
   "source": [
    "xb_hsv = kornia.rgb_to_hsv(xb_rgb.float() / 255.)\n",
    "imshow(xb_hsv[:, 2:3])"
   ],
   "metadata": {
    "collapsed": false,
    "pycharm": {
     "name": "#%%\n"
    }
   }
  },
  {
   "cell_type": "markdown",
   "source": [
    "BGR -> YUV"
   ],
   "metadata": {
    "collapsed": false,
    "pycharm": {
     "name": "#%% md\n"
    }
   }
  },
  {
   "cell_type": "code",
   "execution_count": null,
   "outputs": [],
   "source": [
    "yuv = kornia.rgb_to_yuv(xb_rgb.float() / 255.)\n",
    "y_channel = torchvision.utils.make_grid(yuv, nrow=2)[0, :, :]\n",
    "plt.imshow(y_channel, cmap='gray', vmin=0, vmax=1)  # Displaying only y channel\n",
    "plt.axis('off')\n",
    "plt.show()"
   ],
   "metadata": {
    "collapsed": false,
    "pycharm": {
     "name": "#%%\n"
    }
   }
  }
 ],
 "metadata": {
  "kernelspec": {
   "display_name": "Python 3",
   "language": "python",
   "name": "python3"
  },
  "language_info": {
   "codemirror_mode": {
    "name": "ipython",
    "version": 2
   },
   "file_extension": ".py",
   "mimetype": "text/x-python",
   "name": "python",
   "nbconvert_exporter": "python",
   "pygments_lexer": "ipython2",
   "version": "2.7.6"
  }
 },
 "nbformat": 4,
 "nbformat_minor": 0
}